{
 "cells": [
  {
   "cell_type": "markdown",
   "id": "9ea2cf7e-f9dd-4a6c-a7b9-89e241618830",
   "metadata": {},
   "source": [
    "### Pytorch에서 Color 데이터셋을 인식하기 위해 Color별로 디렉터리를 만든다."
   ]
  },
  {
   "cell_type": "code",
   "execution_count": 2,
   "id": "d9f081a2-aeb2-4d4e-9672-b288bac2603b",
   "metadata": {},
   "outputs": [],
   "source": [
    "import pandas as pd\n"
   ]
  },
  {
   "cell_type": "code",
   "execution_count": 3,
   "id": "2eb94fee-7a08-4fb0-878d-12e55631cac3",
   "metadata": {},
   "outputs": [],
   "source": [
    "table = pd.read_csv(\"../data/Fashion_SQL_Formatted.csv\")"
   ]
  },
  {
   "cell_type": "code",
   "execution_count": 4,
   "id": "c44af3d4-890f-4b99-b09b-aabf20168eb4",
   "metadata": {},
   "outputs": [
    {
     "data": {
      "text/html": [
       "<div>\n",
       "<style scoped>\n",
       "    .dataframe tbody tr th:only-of-type {\n",
       "        vertical-align: middle;\n",
       "    }\n",
       "\n",
       "    .dataframe tbody tr th {\n",
       "        vertical-align: top;\n",
       "    }\n",
       "\n",
       "    .dataframe thead th {\n",
       "        text-align: right;\n",
       "    }\n",
       "</style>\n",
       "<table border=\"1\" class=\"dataframe\">\n",
       "  <thead>\n",
       "    <tr style=\"text-align: right;\">\n",
       "      <th></th>\n",
       "      <th>PRODUCTID</th>\n",
       "      <th>GENDER_SIMPLIFIED</th>\n",
       "      <th>CATEGORY_SIMPLIFIED</th>\n",
       "      <th>COLOR</th>\n",
       "      <th>IMAGE</th>\n",
       "    </tr>\n",
       "  </thead>\n",
       "  <tbody>\n",
       "    <tr>\n",
       "      <th>0</th>\n",
       "      <td>42419</td>\n",
       "      <td>0</td>\n",
       "      <td>1</td>\n",
       "      <td>White</td>\n",
       "      <td>42419.jpg</td>\n",
       "    </tr>\n",
       "    <tr>\n",
       "      <th>1</th>\n",
       "      <td>34009</td>\n",
       "      <td>0</td>\n",
       "      <td>1</td>\n",
       "      <td>Black</td>\n",
       "      <td>34009.jpg</td>\n",
       "    </tr>\n",
       "    <tr>\n",
       "      <th>2</th>\n",
       "      <td>40143</td>\n",
       "      <td>0</td>\n",
       "      <td>1</td>\n",
       "      <td>Blue</td>\n",
       "      <td>40143.jpg</td>\n",
       "    </tr>\n",
       "    <tr>\n",
       "      <th>3</th>\n",
       "      <td>23623</td>\n",
       "      <td>0</td>\n",
       "      <td>1</td>\n",
       "      <td>Pink</td>\n",
       "      <td>23623.jpg</td>\n",
       "    </tr>\n",
       "    <tr>\n",
       "      <th>4</th>\n",
       "      <td>47154</td>\n",
       "      <td>0</td>\n",
       "      <td>1</td>\n",
       "      <td>Black</td>\n",
       "      <td>47154.jpg</td>\n",
       "    </tr>\n",
       "  </tbody>\n",
       "</table>\n",
       "</div>"
      ],
      "text/plain": [
       "   PRODUCTID  GENDER_SIMPLIFIED  CATEGORY_SIMPLIFIED  COLOR      IMAGE\n",
       "0      42419                  0                    1  White  42419.jpg\n",
       "1      34009                  0                    1  Black  34009.jpg\n",
       "2      40143                  0                    1   Blue  40143.jpg\n",
       "3      23623                  0                    1   Pink  23623.jpg\n",
       "4      47154                  0                    1  Black  47154.jpg"
      ]
     },
     "execution_count": 4,
     "metadata": {},
     "output_type": "execute_result"
    }
   ],
   "source": [
    "table.head()"
   ]
  },
  {
   "cell_type": "code",
   "execution_count": 13,
   "id": "2854fdad-84a0-4518-bfe1-878f069d2d66",
   "metadata": {},
   "outputs": [
    {
     "name": "stdout",
     "output_type": "stream",
     "text": [
      "['White' 'Black' 'Blue' 'Pink' 'Red' 'Olive' 'Yellow' 'Navy Blue'\n",
      " 'Magenta' 'Grey' 'Green' 'Orange' 'Purple' 'Turquoise Blue' 'Peach'\n",
      " 'Off White' 'Teal' 'Sea Green' 'Lime Green' 'Brown' 'Lavender' 'Beige'\n",
      " 'Khaki' 'Multi' 'Maroon' 'Cream' 'Rust' 'Grey Melange' 'Silver' 'Tan'\n",
      " 'Charcoal' 'Mushroom Brown' 'Copper' 'Gold' 'Bronze' 'Taupe' 'Metallic'\n",
      " 'Mustard' 'Nude']\n",
      "39\n"
     ]
    }
   ],
   "source": [
    "print(table['COLOR'].unique())\n",
    "print(len(table['COLOR'].unique()))"
   ]
  },
  {
   "cell_type": "code",
   "execution_count": 16,
   "id": "5301c1e4-b311-40c2-ba0d-a223685d4c4d",
   "metadata": {},
   "outputs": [
    {
     "data": {
      "text/html": [
       "<div>\n",
       "<style scoped>\n",
       "    .dataframe tbody tr th:only-of-type {\n",
       "        vertical-align: middle;\n",
       "    }\n",
       "\n",
       "    .dataframe tbody tr th {\n",
       "        vertical-align: top;\n",
       "    }\n",
       "\n",
       "    .dataframe thead th {\n",
       "        text-align: right;\n",
       "    }\n",
       "</style>\n",
       "<table border=\"1\" class=\"dataframe\">\n",
       "  <thead>\n",
       "    <tr style=\"text-align: right;\">\n",
       "      <th></th>\n",
       "      <th>PRODUCTID</th>\n",
       "      <th>GENDER_SIMPLIFIED</th>\n",
       "      <th>CATEGORY_SIMPLIFIED</th>\n",
       "      <th>COLOR</th>\n",
       "      <th>IMAGE</th>\n",
       "    </tr>\n",
       "  </thead>\n",
       "  <tbody>\n",
       "    <tr>\n",
       "      <th>2783</th>\n",
       "      <td>33530</td>\n",
       "      <td>0</td>\n",
       "      <td>0</td>\n",
       "      <td>Beige</td>\n",
       "      <td>33530.jpg</td>\n",
       "    </tr>\n",
       "    <tr>\n",
       "      <th>2620</th>\n",
       "      <td>39206</td>\n",
       "      <td>0</td>\n",
       "      <td>0</td>\n",
       "      <td>Beige</td>\n",
       "      <td>39206.jpg</td>\n",
       "    </tr>\n",
       "    <tr>\n",
       "      <th>1350</th>\n",
       "      <td>41866</td>\n",
       "      <td>1</td>\n",
       "      <td>0</td>\n",
       "      <td>Beige</td>\n",
       "      <td>41866.jpg</td>\n",
       "    </tr>\n",
       "    <tr>\n",
       "      <th>2706</th>\n",
       "      <td>49576</td>\n",
       "      <td>0</td>\n",
       "      <td>0</td>\n",
       "      <td>Beige</td>\n",
       "      <td>49576.jpg</td>\n",
       "    </tr>\n",
       "    <tr>\n",
       "      <th>451</th>\n",
       "      <td>16803</td>\n",
       "      <td>0</td>\n",
       "      <td>1</td>\n",
       "      <td>Beige</td>\n",
       "      <td>16803.jpg</td>\n",
       "    </tr>\n",
       "  </tbody>\n",
       "</table>\n",
       "</div>"
      ],
      "text/plain": [
       "      PRODUCTID  GENDER_SIMPLIFIED  CATEGORY_SIMPLIFIED  COLOR      IMAGE\n",
       "2783      33530                  0                    0  Beige  33530.jpg\n",
       "2620      39206                  0                    0  Beige  39206.jpg\n",
       "1350      41866                  1                    0  Beige  41866.jpg\n",
       "2706      49576                  0                    0  Beige  49576.jpg\n",
       "451       16803                  0                    1  Beige  16803.jpg"
      ]
     },
     "execution_count": 16,
     "metadata": {},
     "output_type": "execute_result"
    }
   ],
   "source": [
    "table.sort_values(by=\"COLOR\", inplace=True)\n",
    "table.head()"
   ]
  },
  {
   "cell_type": "code",
   "execution_count": 17,
   "id": "dc1ea012-5151-4a5b-9fa7-f303521a2ba4",
   "metadata": {},
   "outputs": [
    {
     "data": {
      "text/plain": [
       "2906"
      ]
     },
     "execution_count": 17,
     "metadata": {},
     "output_type": "execute_result"
    }
   ],
   "source": [
    "len(table)"
   ]
  },
  {
   "cell_type": "markdown",
   "id": "b279f724-035b-4c01-a25c-bb9ba7020d5c",
   "metadata": {},
   "source": [
    "### python 디렉터리에 있는 ColorClassification.py파일을 실행시킨다. 관리자모드로 실행해야 한다!"
   ]
  }
 ],
 "metadata": {
  "kernelspec": {
   "display_name": "Python 3 (ipykernel)",
   "language": "python",
   "name": "python3"
  },
  "language_info": {
   "codemirror_mode": {
    "name": "ipython",
    "version": 3
   },
   "file_extension": ".py",
   "mimetype": "text/x-python",
   "name": "python",
   "nbconvert_exporter": "python",
   "pygments_lexer": "ipython3",
   "version": "3.9.0"
  }
 },
 "nbformat": 4,
 "nbformat_minor": 5
}
