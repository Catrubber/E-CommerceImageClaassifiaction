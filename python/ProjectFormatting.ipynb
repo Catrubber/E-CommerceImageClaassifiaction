{
 "cells": [
  {
   "cell_type": "markdown",
   "id": "d67bcb0e-8b0a-4ac0-ae6d-bd72a20b89f9",
   "metadata": {},
   "source": [
    "### Pandas 임포트"
   ]
  },
  {
   "cell_type": "code",
   "execution_count": 1,
   "id": "1b3af03f-782f-47d2-bf6d-e68cc46996ab",
   "metadata": {},
   "outputs": [],
   "source": [
    "import pandas as pd\n",
    "import numpy as np"
   ]
  },
  {
   "cell_type": "markdown",
   "id": "260cf416-ef7f-47bb-9bc5-3cc605b73758",
   "metadata": {},
   "source": [
    "### CSV파일 불러오기"
   ]
  },
  {
   "cell_type": "code",
   "execution_count": 2,
   "id": "8408512b-1090-453a-b4d6-e0649aa7db0a",
   "metadata": {},
   "outputs": [],
   "source": [
    "fashion = pd.read_csv(\"../data/Fashion_SQL.csv\")"
   ]
  },
  {
   "cell_type": "code",
   "execution_count": 3,
   "id": "111629ed-5637-44c1-81d7-b20902b8c50e",
   "metadata": {},
   "outputs": [
    {
     "data": {
      "text/html": [
       "<div>\n",
       "<style scoped>\n",
       "    .dataframe tbody tr th:only-of-type {\n",
       "        vertical-align: middle;\n",
       "    }\n",
       "\n",
       "    .dataframe tbody tr th {\n",
       "        vertical-align: top;\n",
       "    }\n",
       "\n",
       "    .dataframe thead th {\n",
       "        text-align: right;\n",
       "    }\n",
       "</style>\n",
       "<table border=\"1\" class=\"dataframe\">\n",
       "  <thead>\n",
       "    <tr style=\"text-align: right;\">\n",
       "      <th></th>\n",
       "      <th>PRODUCTID</th>\n",
       "      <th>GENDER_SIMPLIFIED</th>\n",
       "      <th>FEMALE_SIMPLIFIED</th>\n",
       "      <th>MALE_SIMPLIFIED</th>\n",
       "      <th>CATEGORY_SIMPLIFIED</th>\n",
       "      <th>SUBCATEGORY</th>\n",
       "      <th>PRODUCTTYPE</th>\n",
       "      <th>COLOR</th>\n",
       "      <th>USAGE</th>\n",
       "      <th>PRODUCTTITLE</th>\n",
       "      <th>IMAGE</th>\n",
       "      <th>IMAGEURL</th>\n",
       "    </tr>\n",
       "  </thead>\n",
       "  <tbody>\n",
       "    <tr>\n",
       "      <th>0</th>\n",
       "      <td>42419</td>\n",
       "      <td>0</td>\n",
       "      <td>0.0</td>\n",
       "      <td>NaN</td>\n",
       "      <td>1</td>\n",
       "      <td>Topwear</td>\n",
       "      <td>Tops</td>\n",
       "      <td>White</td>\n",
       "      <td>Casual</td>\n",
       "      <td>Gini and Jony Girls Knit White Top</td>\n",
       "      <td>42419.jpg</td>\n",
       "      <td>http://assets.myntassets.com/v1/images/style/p...</td>\n",
       "    </tr>\n",
       "    <tr>\n",
       "      <th>1</th>\n",
       "      <td>34009</td>\n",
       "      <td>0</td>\n",
       "      <td>0.0</td>\n",
       "      <td>NaN</td>\n",
       "      <td>1</td>\n",
       "      <td>Topwear</td>\n",
       "      <td>Tops</td>\n",
       "      <td>Black</td>\n",
       "      <td>Casual</td>\n",
       "      <td>Gini and Jony Girls Black Top</td>\n",
       "      <td>34009.jpg</td>\n",
       "      <td>http://assets.myntassets.com/v1/images/style/p...</td>\n",
       "    </tr>\n",
       "    <tr>\n",
       "      <th>2</th>\n",
       "      <td>40143</td>\n",
       "      <td>0</td>\n",
       "      <td>0.0</td>\n",
       "      <td>NaN</td>\n",
       "      <td>1</td>\n",
       "      <td>Topwear</td>\n",
       "      <td>Tops</td>\n",
       "      <td>Blue</td>\n",
       "      <td>Casual</td>\n",
       "      <td>Gini and Jony Girls Pretty Blossom Blue Top</td>\n",
       "      <td>40143.jpg</td>\n",
       "      <td>http://assets.myntassets.com/v1/images/style/p...</td>\n",
       "    </tr>\n",
       "    <tr>\n",
       "      <th>3</th>\n",
       "      <td>23623</td>\n",
       "      <td>0</td>\n",
       "      <td>0.0</td>\n",
       "      <td>NaN</td>\n",
       "      <td>1</td>\n",
       "      <td>Topwear</td>\n",
       "      <td>Tops</td>\n",
       "      <td>Pink</td>\n",
       "      <td>Casual</td>\n",
       "      <td>Doodle Kids Girls Pink I love Shopping Top</td>\n",
       "      <td>23623.jpg</td>\n",
       "      <td>http://assets.myntassets.com/v1/images/style/p...</td>\n",
       "    </tr>\n",
       "    <tr>\n",
       "      <th>4</th>\n",
       "      <td>47154</td>\n",
       "      <td>0</td>\n",
       "      <td>0.0</td>\n",
       "      <td>NaN</td>\n",
       "      <td>1</td>\n",
       "      <td>Bottomwear</td>\n",
       "      <td>Capris</td>\n",
       "      <td>Black</td>\n",
       "      <td>Casual</td>\n",
       "      <td>Gini and Jony Girls Black Capris</td>\n",
       "      <td>47154.jpg</td>\n",
       "      <td>http://assets.myntassets.com/v1/images/style/p...</td>\n",
       "    </tr>\n",
       "  </tbody>\n",
       "</table>\n",
       "</div>"
      ],
      "text/plain": [
       "   PRODUCTID  GENDER_SIMPLIFIED  FEMALE_SIMPLIFIED  MALE_SIMPLIFIED  \\\n",
       "0      42419                  0                0.0              NaN   \n",
       "1      34009                  0                0.0              NaN   \n",
       "2      40143                  0                0.0              NaN   \n",
       "3      23623                  0                0.0              NaN   \n",
       "4      47154                  0                0.0              NaN   \n",
       "\n",
       "   CATEGORY_SIMPLIFIED SUBCATEGORY PRODUCTTYPE  COLOR   USAGE  \\\n",
       "0                    1     Topwear        Tops  White  Casual   \n",
       "1                    1     Topwear        Tops  Black  Casual   \n",
       "2                    1     Topwear        Tops   Blue  Casual   \n",
       "3                    1     Topwear        Tops   Pink  Casual   \n",
       "4                    1  Bottomwear      Capris  Black  Casual   \n",
       "\n",
       "                                  PRODUCTTITLE      IMAGE  \\\n",
       "0           Gini and Jony Girls Knit White Top  42419.jpg   \n",
       "1                Gini and Jony Girls Black Top  34009.jpg   \n",
       "2  Gini and Jony Girls Pretty Blossom Blue Top  40143.jpg   \n",
       "3   Doodle Kids Girls Pink I love Shopping Top  23623.jpg   \n",
       "4             Gini and Jony Girls Black Capris  47154.jpg   \n",
       "\n",
       "                                            IMAGEURL  \n",
       "0  http://assets.myntassets.com/v1/images/style/p...  \n",
       "1  http://assets.myntassets.com/v1/images/style/p...  \n",
       "2  http://assets.myntassets.com/v1/images/style/p...  \n",
       "3  http://assets.myntassets.com/v1/images/style/p...  \n",
       "4  http://assets.myntassets.com/v1/images/style/p...  "
      ]
     },
     "execution_count": 3,
     "metadata": {},
     "output_type": "execute_result"
    }
   ],
   "source": [
    "fashion.head()"
   ]
  },
  {
   "cell_type": "code",
   "execution_count": 4,
   "id": "fdb0d674-dd80-43e1-b2b7-182c824ab86b",
   "metadata": {},
   "outputs": [],
   "source": [
    "fashion.drop(['SUBCATEGORY', 'PRODUCTTYPE', 'USAGE', 'PRODUCTTITLE', 'IMAGEURL', 'FEMALE_SIMPLIFIED', 'MALE_SIMPLIFIED'], axis = 1, inplace=True)"
   ]
  },
  {
   "cell_type": "code",
   "execution_count": 5,
   "id": "00eb226f-42de-4cdd-9690-46cb96e44676",
   "metadata": {},
   "outputs": [
    {
     "data": {
      "text/html": [
       "<div>\n",
       "<style scoped>\n",
       "    .dataframe tbody tr th:only-of-type {\n",
       "        vertical-align: middle;\n",
       "    }\n",
       "\n",
       "    .dataframe tbody tr th {\n",
       "        vertical-align: top;\n",
       "    }\n",
       "\n",
       "    .dataframe thead th {\n",
       "        text-align: right;\n",
       "    }\n",
       "</style>\n",
       "<table border=\"1\" class=\"dataframe\">\n",
       "  <thead>\n",
       "    <tr style=\"text-align: right;\">\n",
       "      <th></th>\n",
       "      <th>PRODUCTID</th>\n",
       "      <th>GENDER_SIMPLIFIED</th>\n",
       "      <th>CATEGORY_SIMPLIFIED</th>\n",
       "      <th>COLOR</th>\n",
       "      <th>IMAGE</th>\n",
       "    </tr>\n",
       "  </thead>\n",
       "  <tbody>\n",
       "    <tr>\n",
       "      <th>0</th>\n",
       "      <td>42419</td>\n",
       "      <td>0</td>\n",
       "      <td>1</td>\n",
       "      <td>White</td>\n",
       "      <td>42419.jpg</td>\n",
       "    </tr>\n",
       "    <tr>\n",
       "      <th>1</th>\n",
       "      <td>34009</td>\n",
       "      <td>0</td>\n",
       "      <td>1</td>\n",
       "      <td>Black</td>\n",
       "      <td>34009.jpg</td>\n",
       "    </tr>\n",
       "    <tr>\n",
       "      <th>2</th>\n",
       "      <td>40143</td>\n",
       "      <td>0</td>\n",
       "      <td>1</td>\n",
       "      <td>Blue</td>\n",
       "      <td>40143.jpg</td>\n",
       "    </tr>\n",
       "    <tr>\n",
       "      <th>3</th>\n",
       "      <td>23623</td>\n",
       "      <td>0</td>\n",
       "      <td>1</td>\n",
       "      <td>Pink</td>\n",
       "      <td>23623.jpg</td>\n",
       "    </tr>\n",
       "    <tr>\n",
       "      <th>4</th>\n",
       "      <td>47154</td>\n",
       "      <td>0</td>\n",
       "      <td>1</td>\n",
       "      <td>Black</td>\n",
       "      <td>47154.jpg</td>\n",
       "    </tr>\n",
       "  </tbody>\n",
       "</table>\n",
       "</div>"
      ],
      "text/plain": [
       "   PRODUCTID  GENDER_SIMPLIFIED  CATEGORY_SIMPLIFIED  COLOR      IMAGE\n",
       "0      42419                  0                    1  White  42419.jpg\n",
       "1      34009                  0                    1  Black  34009.jpg\n",
       "2      40143                  0                    1   Blue  40143.jpg\n",
       "3      23623                  0                    1   Pink  23623.jpg\n",
       "4      47154                  0                    1  Black  47154.jpg"
      ]
     },
     "execution_count": 5,
     "metadata": {},
     "output_type": "execute_result"
    }
   ],
   "source": [
    "fashion.head()"
   ]
  },
  {
   "cell_type": "markdown",
   "id": "0e9141a3-6963-40d9-8380-d18fc9feed82",
   "metadata": {},
   "source": [
    "### 참고로 원래 kaggle데이터의 디렉터리 구조가 Apparel과 Footwear로 나뉘고,\n",
    "### 그 다음 Apparel은 Boys/Girls, Footwear은 Men/Women으로 나뉜다\n",
    "### 그러나 SQL작업 덕분에 Boys는 Men으로, Girls는 Women으로 이미 통합되어 있다."
   ]
  },
  {
   "cell_type": "code",
   "execution_count": 7,
   "id": "a1683ad4-f20d-495d-a3fd-af2bad884490",
   "metadata": {},
   "outputs": [
    {
     "name": "stdout",
     "output_type": "stream",
     "text": [
      "   PRODUCTID  GENDER_SIMPLIFIED  CATEGORY_SIMPLIFIED  COLOR      IMAGE\n",
      "0      42419                  0                    1  White  42419.jpg\n",
      "1      34009                  0                    1  Black  34009.jpg\n",
      "2      40143                  0                    1   Blue  40143.jpg\n",
      "3      23623                  0                    1   Pink  23623.jpg\n",
      "4      47154                  0                    1  Black  47154.jpg\n",
      "[0 1]\n"
     ]
    }
   ],
   "source": [
    "print(fashion.head())\n",
    "print(fashion[\"GENDER_SIMPLIFIED\"].unique())"
   ]
  },
  {
   "cell_type": "markdown",
   "id": "a670a598-689e-4de9-8f66-e5304a58e896",
   "metadata": {},
   "source": [
    "###### unique결과 Women과 Men만 뜨는 것으로 보아 잘 통합되었다고 볼 수 있다."
   ]
  },
  {
   "cell_type": "markdown",
   "id": "5c8af93f",
   "metadata": {},
   "source": [
    "### python 폴더를 열고 osos.py를 관리자 권한으로 실행시킨다.\n",
    "######  cmd를 관리자 권한으로 열고 해당 경로로 이동한 뒤 python osos.py 명령을 입력한다. python글자만 출력되는 경우 환경변수 설정 필요\n",
    "###### 경로 충돌 등 오류 발생한다면 kaggle에서 Apparel과 Footwear디렉터리를 다시 다운로드"
   ]
  },
  {
   "cell_type": "markdown",
   "id": "dc50d260",
   "metadata": {},
   "source": [
    "### 나머지 feature들의 unique도 확인"
   ]
  },
  {
   "cell_type": "code",
   "execution_count": 10,
   "id": "0a14ec46",
   "metadata": {},
   "outputs": [
    {
     "name": "stdout",
     "output_type": "stream",
     "text": [
      "[1 0] \n",
      "\n",
      "['White' 'Black' 'Blue' 'Pink' 'Red' 'Olive' 'Yellow' 'Navy Blue'\n",
      " 'Magenta' 'Grey' 'Green' 'Orange' 'Purple' 'Turquoise Blue' 'Peach'\n",
      " 'Off White' 'Teal' 'Sea Green' 'Lime Green' 'Brown' 'Lavender' 'Beige'\n",
      " 'Khaki' 'Multi' 'Maroon' 'Cream' 'Rust' 'Grey Melange' 'Silver' 'Tan'\n",
      " 'Charcoal' 'Mushroom Brown' 'Copper' 'Gold' 'Bronze' 'Taupe' 'Metallic'\n",
      " 'Mustard' 'Nude']\n"
     ]
    }
   ],
   "source": [
    "print(fashion[\"CATEGORY_SIMPLIFIED\"].unique(), \"\\n\")\n",
    "print(fashion[\"COLOR\"].unique())"
   ]
  }
 ],
 "metadata": {
  "kernelspec": {
   "display_name": "Python 3 (ipykernel)",
   "language": "python",
   "name": "python3"
  },
  "language_info": {
   "codemirror_mode": {
    "name": "ipython",
    "version": 3
   },
   "file_extension": ".py",
   "mimetype": "text/x-python",
   "name": "python",
   "nbconvert_exporter": "python",
   "pygments_lexer": "ipython3",
   "version": "3.9.0"
  }
 },
 "nbformat": 4,
 "nbformat_minor": 5
}
